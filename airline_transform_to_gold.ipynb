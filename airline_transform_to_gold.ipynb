{
 "cells": [
  {
   "cell_type": "code",
   "execution_count": null,
   "metadata": {},
   "outputs": [],
   "source": [
    "import pandas as pd\n",
    "from textblob import TextBlob\n",
    "import requests"
   ]
  },
  {
   "cell_type": "code",
   "execution_count": null,
   "metadata": {},
   "outputs": [],
   "source": [
    "df_original = pd.read_json(r\"silver\\airlines.json\")\n",
    "df_original"
   ]
  },
  {
   "cell_type": "code",
   "execution_count": null,
   "metadata": {},
   "outputs": [],
   "source": [
    "df_flights = pd.read_json(r\"gold\\flights.json\")\n",
    "df_flights"
   ]
  },
  {
   "cell_type": "code",
   "execution_count": null,
   "metadata": {},
   "outputs": [],
   "source": [
    "airlines_to_keep = df_flights[\"airline\"].unique()\n"
   ]
  },
  {
   "cell_type": "code",
   "execution_count": null,
   "metadata": {},
   "outputs": [],
   "source": [
    "df_copy = df_original.copy()\n",
    "df_copy = df_original[df_original[\"code\"].isin(airlines_to_keep)]\n",
    "df_copy"
   ]
  },
  {
   "cell_type": "code",
   "execution_count": null,
   "metadata": {},
   "outputs": [],
   "source": [
    "with open(\"api_news.txt\") as api:\n",
    "    api_key = api.readline()"
   ]
  },
  {
   "cell_type": "code",
   "execution_count": null,
   "metadata": {},
   "outputs": [],
   "source": [
    "def get_sentiment(airline):\n",
    "    if \"air\" not in airline[\"name\"].lower():\n",
    "        query = f\"{airline['name']} Airline\"\n",
    "    else:\n",
    "        query = airline['name']\n",
    "\n",
    "    news_url = f'https://newsapi.org/v2/everything?q={query}&apiKey={api_key}'\n",
    "\n",
    "    try:\n",
    "        news_response = requests.get(news_url)\n",
    "        \n",
    "        if news_response.ok:\n",
    "            news_data = news_response.json().get('articles', [])\n",
    "\n",
    "            if not news_data:\n",
    "                return \"No articles found for the given query.\"\n",
    "\n",
    "            score = 0\n",
    "\n",
    "            for i, article in enumerate(news_data):\n",
    "                text_to_analyze = article[\"title\"] if article[\"description\"] is None else article[\"description\"]\n",
    "                score += TextBlob(text_to_analyze).sentiment.polarity\n",
    "\n",
    "            score /= len(news_data)\n",
    "\n",
    "            if score > 0:\n",
    "                sentiment = \"positive\"\n",
    "            elif score < -0.05:\n",
    "                sentiment = \"negative\"\n",
    "            else:\n",
    "                sentiment = \"medium\"\n",
    "\n",
    "            return sentiment\n",
    "\n",
    "        else:\n",
    "            return \"Couldn't parse sentiment. News API response not OK.\"\n",
    "\n",
    "    except requests.RequestException as e:\n",
    "        return f\"Error during API request: {e}\""
   ]
  },
  {
   "cell_type": "code",
   "execution_count": null,
   "metadata": {},
   "outputs": [],
   "source": [
    "df_copy[\"airline_sentiment\"] = df_copy.apply(get_sentiment, axis=1)\n",
    "df_copy"
   ]
  },
  {
   "cell_type": "code",
   "execution_count": null,
   "metadata": {},
   "outputs": [],
   "source": [
    "df_copy.to_json(r\"gold\\airlines.json\", orient=\"records\", indent=2)"
   ]
  }
 ],
 "metadata": {
  "kernelspec": {
   "display_name": "Python 3",
   "language": "python",
   "name": "python3"
  },
  "language_info": {
   "codemirror_mode": {
    "name": "ipython",
    "version": 3
   },
   "file_extension": ".py",
   "mimetype": "text/x-python",
   "name": "python",
   "nbconvert_exporter": "python",
   "pygments_lexer": "ipython3",
   "version": "3.11.6"
  }
 },
 "nbformat": 4,
 "nbformat_minor": 2
}
