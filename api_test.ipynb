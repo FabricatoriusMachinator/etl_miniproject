{
 "cells": [
  {
   "cell_type": "code",
   "execution_count": 31,
   "metadata": {},
   "outputs": [],
   "source": [
    "import requests\n",
    "import xmltodict\n",
    "import pandas as pd\n",
    "from textblob import TextBlob"
   ]
  },
  {
   "cell_type": "code",
   "execution_count": 3,
   "metadata": {},
   "outputs": [],
   "source": [
    "avinor_url = \"https://flydata.avinor.no/XmlFeed.asp?TimeFrom=1&TimeTo=24&airport=OSL&direction=D\"\n",
    "avinor_response = requests.get(avinor_url)"
   ]
  },
  {
   "cell_type": "code",
   "execution_count": 30,
   "metadata": {},
   "outputs": [
    {
     "data": {
      "text/plain": [
       "dict_keys"
      ]
     },
     "execution_count": 30,
     "metadata": {},
     "output_type": "execute_result"
    }
   ],
   "source": [
    "fligths = xmltodict.parse(avinor_response.text)"
   ]
  },
  {
   "cell_type": "code",
   "execution_count": 5,
   "metadata": {},
   "outputs": [],
   "source": [
    "xml_data = avinor_response.text\n",
    "data_dict = xmltodict.parse(xml_data)\n",
    "\n",
    "flights = data_dict['airport']['flights']['flight']\n",
    "df_flights = pd.DataFrame(flights)\n",
    "\n",
    "airlines_to_exclude = [\"JUL\", \"BRR\"]\n",
    "\n",
    "df_flights = df_flights[~df_flights[\"airline\"].isin(airlines_to_exclude)]\n",
    "df_flights[\"airline\"] = df_flights[\"airline\"].replace(\"TRK\", \"TK\")\n",
    "df_flights.drop(columns=[\"gate\", \"via_airport\", \"check_in\", \"status\", \"delayed\"], inplace=True)"
   ]
  },
  {
   "cell_type": "code",
   "execution_count": 6,
   "metadata": {},
   "outputs": [
    {
     "data": {
      "text/html": [
       "<div>\n",
       "<style scoped>\n",
       "    .dataframe tbody tr th:only-of-type {\n",
       "        vertical-align: middle;\n",
       "    }\n",
       "\n",
       "    .dataframe tbody tr th {\n",
       "        vertical-align: top;\n",
       "    }\n",
       "\n",
       "    .dataframe thead th {\n",
       "        text-align: right;\n",
       "    }\n",
       "</style>\n",
       "<table border=\"1\" class=\"dataframe\">\n",
       "  <thead>\n",
       "    <tr style=\"text-align: right;\">\n",
       "      <th></th>\n",
       "      <th>@uniqueID</th>\n",
       "      <th>airline</th>\n",
       "      <th>flight_id</th>\n",
       "      <th>dom_int</th>\n",
       "      <th>schedule_time</th>\n",
       "      <th>arr_dep</th>\n",
       "      <th>airport</th>\n",
       "    </tr>\n",
       "  </thead>\n",
       "  <tbody>\n",
       "    <tr>\n",
       "      <th>5</th>\n",
       "      <td>12095902</td>\n",
       "      <td>TK</td>\n",
       "      <td>TRK005</td>\n",
       "      <td>I</td>\n",
       "      <td>2023-12-15T14:00:00Z</td>\n",
       "      <td>D</td>\n",
       "      <td>ESB</td>\n",
       "    </tr>\n",
       "    <tr>\n",
       "      <th>13</th>\n",
       "      <td>12050282</td>\n",
       "      <td>SK</td>\n",
       "      <td>SK344</td>\n",
       "      <td>D</td>\n",
       "      <td>2023-12-20T12:15:00Z</td>\n",
       "      <td>D</td>\n",
       "      <td>TRD</td>\n",
       "    </tr>\n",
       "    <tr>\n",
       "      <th>14</th>\n",
       "      <td>12050773</td>\n",
       "      <td>DY</td>\n",
       "      <td>DY1802</td>\n",
       "      <td>S</td>\n",
       "      <td>2023-12-20T12:15:00Z</td>\n",
       "      <td>D</td>\n",
       "      <td>AGP</td>\n",
       "    </tr>\n",
       "    <tr>\n",
       "      <th>15</th>\n",
       "      <td>12050516</td>\n",
       "      <td>DY</td>\n",
       "      <td>DY612</td>\n",
       "      <td>D</td>\n",
       "      <td>2023-12-20T12:20:00Z</td>\n",
       "      <td>D</td>\n",
       "      <td>BGO</td>\n",
       "    </tr>\n",
       "    <tr>\n",
       "      <th>16</th>\n",
       "      <td>12050366</td>\n",
       "      <td>DY</td>\n",
       "      <td>DY362</td>\n",
       "      <td>D</td>\n",
       "      <td>2023-12-20T12:25:00Z</td>\n",
       "      <td>D</td>\n",
       "      <td>EVE</td>\n",
       "    </tr>\n",
       "    <tr>\n",
       "      <th>...</th>\n",
       "      <td>...</td>\n",
       "      <td>...</td>\n",
       "      <td>...</td>\n",
       "      <td>...</td>\n",
       "      <td>...</td>\n",
       "      <td>...</td>\n",
       "      <td>...</td>\n",
       "    </tr>\n",
       "    <tr>\n",
       "      <th>301</th>\n",
       "      <td>12052434</td>\n",
       "      <td>BT</td>\n",
       "      <td>BT816</td>\n",
       "      <td>S</td>\n",
       "      <td>2023-12-21T13:45:00Z</td>\n",
       "      <td>D</td>\n",
       "      <td>TLL</td>\n",
       "    </tr>\n",
       "    <tr>\n",
       "      <th>302</th>\n",
       "      <td>12053148</td>\n",
       "      <td>SK</td>\n",
       "      <td>SK809</td>\n",
       "      <td>I</td>\n",
       "      <td>2023-12-21T14:00:00Z</td>\n",
       "      <td>D</td>\n",
       "      <td>LHR</td>\n",
       "    </tr>\n",
       "    <tr>\n",
       "      <th>303</th>\n",
       "      <td>12052939</td>\n",
       "      <td>DY</td>\n",
       "      <td>DY378</td>\n",
       "      <td>D</td>\n",
       "      <td>2023-12-21T14:00:00Z</td>\n",
       "      <td>D</td>\n",
       "      <td>TOS</td>\n",
       "    </tr>\n",
       "    <tr>\n",
       "      <th>304</th>\n",
       "      <td>12053072</td>\n",
       "      <td>DY</td>\n",
       "      <td>DY816</td>\n",
       "      <td>S</td>\n",
       "      <td>2023-12-21T14:00:00Z</td>\n",
       "      <td>D</td>\n",
       "      <td>ARN</td>\n",
       "    </tr>\n",
       "    <tr>\n",
       "      <th>305</th>\n",
       "      <td>12052404</td>\n",
       "      <td>QR</td>\n",
       "      <td>QR176</td>\n",
       "      <td>I</td>\n",
       "      <td>2023-12-21T14:00:00Z</td>\n",
       "      <td>D</td>\n",
       "      <td>DOH</td>\n",
       "    </tr>\n",
       "  </tbody>\n",
       "</table>\n",
       "<p>294 rows × 7 columns</p>\n",
       "</div>"
      ],
      "text/plain": [
       "    @uniqueID airline flight_id dom_int         schedule_time arr_dep airport\n",
       "5    12095902      TK    TRK005       I  2023-12-15T14:00:00Z       D     ESB\n",
       "13   12050282      SK     SK344       D  2023-12-20T12:15:00Z       D     TRD\n",
       "14   12050773      DY    DY1802       S  2023-12-20T12:15:00Z       D     AGP\n",
       "15   12050516      DY     DY612       D  2023-12-20T12:20:00Z       D     BGO\n",
       "16   12050366      DY     DY362       D  2023-12-20T12:25:00Z       D     EVE\n",
       "..        ...     ...       ...     ...                   ...     ...     ...\n",
       "301  12052434      BT     BT816       S  2023-12-21T13:45:00Z       D     TLL\n",
       "302  12053148      SK     SK809       I  2023-12-21T14:00:00Z       D     LHR\n",
       "303  12052939      DY     DY378       D  2023-12-21T14:00:00Z       D     TOS\n",
       "304  12053072      DY     DY816       S  2023-12-21T14:00:00Z       D     ARN\n",
       "305  12052404      QR     QR176       I  2023-12-21T14:00:00Z       D     DOH\n",
       "\n",
       "[294 rows x 7 columns]"
      ]
     },
     "execution_count": 6,
     "metadata": {},
     "output_type": "execute_result"
    }
   ],
   "source": [
    "df_flights"
   ]
  },
  {
   "cell_type": "code",
   "execution_count": 7,
   "metadata": {},
   "outputs": [
    {
     "name": "stdout",
     "output_type": "stream",
     "text": [
      "0 ESB\n",
      "1 TRD\n",
      "2 AGP\n",
      "3 BGO\n",
      "4 EVE\n",
      "5 CPH\n",
      "6 SVG\n",
      "7 ARN\n",
      "8 HAU\n",
      "9 DXB\n",
      "10 KRS\n",
      "11 AAR\n",
      "12 TOS\n",
      "13 FDE\n",
      "14 HOV\n",
      "15 BDU\n",
      "16 DOH\n",
      "17 LHR\n",
      "18 MAD\n",
      "19 AES\n",
      "20 LGW\n",
      "21 BLL\n",
      "22 BOO\n",
      "23 AMS\n",
      "24 FRA\n",
      "25 OSL\n",
      "26 KSU\n",
      "27 FRO\n",
      "28 BRU\n",
      "29 DUS\n",
      "30 ALF\n",
      "31 MOL\n",
      "32 HEL\n",
      "33 CDG\n",
      "34 AAL\n",
      "35 RRS\n",
      "36 IST\n",
      "37 ADD\n",
      "38 MUC\n",
      "39 ALC\n",
      "40 RIX\n",
      "41 WAW\n",
      "42 VNO\n",
      "43 SDN\n",
      "44 KRK\n",
      "45 STN\n",
      "46 GDN\n",
      "47 AYT\n",
      "48 LPA\n",
      "49 NCE\n",
      "50 BER\n",
      "51 KEF\n",
      "52 KKN\n",
      "53 ZRH\n",
      "54 OLA\n",
      "55 BCN\n",
      "56 GVA\n",
      "57 KTW\n",
      "58 LYR\n",
      "59 FCO\n",
      "60 BEG\n",
      "61 PRG\n",
      "62 DUB\n",
      "63 BUD\n",
      "64 MXP\n",
      "65 EWR\n",
      "66 MAN\n",
      "67 TLL\n",
      "68 EDI\n",
      "69 TFS\n",
      "70 SSJ\n",
      "71 ATH\n",
      "72 PLQ\n",
      "73 HAM\n",
      "74 BKK\n"
     ]
    }
   ],
   "source": [
    "for idx, i in enumerate(df_flights[\"airport\"].unique()):\n",
    "    print(idx, i)"
   ]
  },
  {
   "cell_type": "code",
   "execution_count": 32,
   "metadata": {},
   "outputs": [],
   "source": [
    "with open(\"api_news.txt\") as api:\n",
    "    api_key = api.readline()"
   ]
  },
  {
   "cell_type": "code",
   "execution_count": 33,
   "metadata": {},
   "outputs": [],
   "source": [
    "query = 'British Airways'\n",
    "\n",
    "news_url = f'https://newsapi.org/v2/everything?q={query}&apiKey={api_key}'\n",
    "\n",
    "news_response = requests.get(news_url)\n",
    "\n",
    "if news_response.ok:\n",
    "    news_data = news_response.json().get('articles', [])"
   ]
  },
  {
   "cell_type": "code",
   "execution_count": 34,
   "metadata": {},
   "outputs": [],
   "source": [
    "for i, article in enumerate(news_data):\n",
    "\n",
    "    text_to_analyze = article[\"title\"] if article[\"description\"] is None else article[\"description\"]\n",
    "\n",
    "    if i == 0:\n",
    "        score = TextBlob(text_to_analyze).sentiment.polarity\n",
    "    else:\n",
    "        score += TextBlob(text_to_analyze).sentiment.polarity\n",
    "        \n",
    "score = score/len(news_data)"
   ]
  },
  {
   "cell_type": "code",
   "execution_count": 35,
   "metadata": {},
   "outputs": [
    {
     "name": "stdout",
     "output_type": "stream",
     "text": [
      "0.0783910533910534\n"
     ]
    },
    {
     "data": {
      "text/plain": [
       "'positive'"
      ]
     },
     "execution_count": 35,
     "metadata": {},
     "output_type": "execute_result"
    }
   ],
   "source": [
    "if score > 0:\n",
    "    sentiment = \"positive\"\n",
    "elif score < -0.05:\n",
    "    sentiment = \"negative\"\n",
    "else:\n",
    "    sentiment = \"medium\"\n",
    "print(score)\n",
    "sentiment"
   ]
  },
  {
   "cell_type": "code",
   "execution_count": 12,
   "metadata": {},
   "outputs": [
    {
     "name": "stdout",
     "output_type": "stream",
     "text": [
      "0 TK\n",
      "1 SK\n",
      "2 DY\n",
      "3 EK\n",
      "4 WF\n",
      "5 QR\n",
      "6 IB\n",
      "7 BA\n",
      "8 LH\n",
      "9 D8\n",
      "10 DX\n",
      "11 KL\n",
      "12 AY\n",
      "13 AF\n",
      "14 SN\n",
      "15 ET\n",
      "16 BT\n",
      "17 LO\n",
      "18 FR\n",
      "19 W6\n",
      "20 RK\n",
      "21 DK\n",
      "22 LX\n",
      "23 JU\n",
      "24 A3\n",
      "25 FI\n",
      "26 N0\n"
     ]
    }
   ],
   "source": [
    "for idx, i in enumerate(df_flights[\"airline\"].unique()):\n",
    "    print(idx, i)"
   ]
  }
 ],
 "metadata": {
  "kernelspec": {
   "display_name": "Python 3",
   "language": "python",
   "name": "python3"
  },
  "language_info": {
   "codemirror_mode": {
    "name": "ipython",
    "version": 3
   },
   "file_extension": ".py",
   "mimetype": "text/x-python",
   "name": "python",
   "nbconvert_exporter": "python",
   "pygments_lexer": "ipython3",
   "version": "3.10.6"
  }
 },
 "nbformat": 4,
 "nbformat_minor": 2
}
