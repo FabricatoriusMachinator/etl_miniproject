{
 "cells": [
  {
   "cell_type": "code",
   "execution_count": 148,
   "metadata": {},
   "outputs": [],
   "source": [
    "import requests\n",
    "import json\n",
    "import pandas as pd\n",
    "import xmltodict"
   ]
  },
  {
   "cell_type": "code",
   "execution_count": 150,
   "metadata": {},
   "outputs": [],
   "source": [
    "api_key = \"dd22523f28227dedf472e70222376217\" "
   ]
  },
  {
   "cell_type": "code",
   "execution_count": 151,
   "metadata": {},
   "outputs": [],
   "source": [
    "base_url = \"http://api.openweathermap.org/data/2.5/weather?\"\n",
    "city_name = \"Paris\"  # Replace with your desired city\n",
    "complete_url = f\"{base_url}appid={api_key}&q={city_name}&units=metric\""
   ]
  },
  {
   "cell_type": "code",
   "execution_count": 152,
   "metadata": {},
   "outputs": [
    {
     "name": "stdout",
     "output_type": "stream",
     "text": [
      "{'coord': {'lon': 2.3488, 'lat': 48.8534}, 'weather': [{'id': 804, 'main': 'Clouds', 'description': 'overcast clouds', 'icon': '04d'}], 'base': 'stations', 'main': {'temp': 8.88, 'feels_like': 5.94, 'temp_min': 8.02, 'temp_max': 9.77, 'pressure': 1023, 'humidity': 85}, 'visibility': 10000, 'wind': {'speed': 5.66, 'deg': 270}, 'clouds': {'all': 100}, 'dt': 1703077830, 'sys': {'type': 2, 'id': 2041230, 'country': 'FR', 'sunrise': 1703058036, 'sunset': 1703087722}, 'timezone': 3600, 'id': 2988507, 'name': 'Paris', 'cod': 200}\n"
     ]
    }
   ],
   "source": [
    "response = requests.get(complete_url)\n",
    "\n",
    "if response.status_code == 200:\n",
    "    weather_data = response.json()\n",
    "    print(weather_data)\n",
    "else:\n",
    "    print(f\"Error: {response.status_code}, {response.text}\")"
   ]
  },
  {
   "cell_type": "code",
   "execution_count": 125,
   "metadata": {},
   "outputs": [],
   "source": [
    "Avinor_Airport_Names = r'C:\\Users\\DY\\Desktop\\Academy\\Module #8 ETL Project\\Silver\\Avinor_Airport_Names.json'"
   ]
  },
  {
   "cell_type": "markdown",
   "metadata": {},
   "source": [
    "MAGNUS SIN LØSNING"
   ]
  },
  {
   "cell_type": "code",
   "execution_count": 155,
   "metadata": {},
   "outputs": [],
   "source": [
    "avinor_url = \"https://flydata.avinor.no/XmlFeed.asp?TimeFrom=1&TimeTo=24&airport=OSL&direction=D\"\n",
    "avinor_response = requests.get(avinor_url)"
   ]
  },
  {
   "cell_type": "code",
   "execution_count": null,
   "metadata": {},
   "outputs": [],
   "source": [
    "fligths = xmltodict.parse(avinor_response.text)\n",
    "fligths"
   ]
  },
  {
   "cell_type": "code",
   "execution_count": 158,
   "metadata": {},
   "outputs": [],
   "source": [
    "if avinor_response.ok:\n",
    "\n",
    "    xml_data = avinor_response.text\n",
    "    data_dict = xmltodict.parse(xml_data)\n",
    "\n",
    "    flights = data_dict['airport']['flights']['flight']\n",
    "\n",
    "    df_flights = pd.DataFrame(flights)\n",
    "\n",
    "    df_flights = df_flights[df_flights[\"airline\"] != \"JUL\"]\n",
    "\n",
    "    df_flights.drop(columns=[\"gate\", \"via_airport\", \"check_in\", \"status\", \"delayed\"], inplace=True)"
   ]
  },
  {
   "cell_type": "code",
   "execution_count": 159,
   "metadata": {},
   "outputs": [
    {
     "name": "stdout",
     "output_type": "stream",
     "text": [
      "['SYG', 'ESB', 'LHR', 'BGO', 'TOS', 'AMS', 'BOO', 'KEF', 'MOL', 'LIS', 'AGP', 'TRD', 'HEL', 'PLQ', 'FRA', 'CPH', 'EVE', 'SAW', 'SVG', 'ARN', 'HAU', 'DXB', 'KRS', 'AAR', 'FDE', 'BDU', 'HOV', 'DOH', 'MAD', 'AES', 'BLL', 'LGW', 'OSL', 'KSU', 'FRO', 'BRU', 'DUS', 'ALF', 'CDG', 'AAL', 'RRS', 'IST', 'MUC', 'ADD', 'ALC', 'RIX', 'WAW', 'VNO', 'SDN', 'KRK', 'STN', 'GDN', 'AYT', 'LPA', 'NCE', 'BER', 'KKN', 'OLA', 'ZRH', 'BCN', 'GVA', 'KTW', 'LYR', 'FCO', 'BEG', 'DUB', 'PRG', 'MXP', 'BUD', 'EWR', 'MAN', 'TLL', 'EDI', 'TFS', 'SSJ', 'ATH', 'HAM', 'BKK']\n"
     ]
    },
    {
     "data": {
      "text/plain": [
       "78"
      ]
     },
     "execution_count": 159,
     "metadata": {},
     "output_type": "execute_result"
    }
   ],
   "source": [
    "flights_next_24H = []\n",
    "\n",
    "for airport in df_flights[\"airport\"].unique():\n",
    "    flights_next_24H.append(airport)\n",
    "\n",
    "print(flights_next_24H)\n",
    "len(flights_next_24H)"
   ]
  },
  {
   "cell_type": "code",
   "execution_count": 160,
   "metadata": {},
   "outputs": [],
   "source": [
    "with open(Avinor_Airport_Names, 'r', encoding='utf-8') as file:\n",
    "    data = json.load(file)\n",
    "\n",
    "# Itererer gjennom filen for å finne iatas som matcher med iatas over flygninger de neste 24 timene, appender så byen for å bruke de inn i værdata api'en\n",
    "city_list = []\n",
    "\n",
    "for dictos in data:\n",
    "    for iata, city in dictos.items():\n",
    "        if iata in flights_next_24H:\n",
    "            city_list.append(city)"
   ]
  },
  {
   "cell_type": "code",
   "execution_count": 161,
   "metadata": {},
   "outputs": [
    {
     "data": {
      "text/plain": [
       "['Aalborg',\n",
       " 'Aalborg',\n",
       " 'Århus',\n",
       " 'Århus',\n",
       " 'Addis Abeba',\n",
       " 'Addis Abeba',\n",
       " 'Ålesund',\n",
       " 'Ålesund',\n",
       " 'Malaga',\n",
       " 'Malaga',\n",
       " 'Alicante',\n",
       " 'Alicante',\n",
       " 'Alta',\n",
       " 'Alta',\n",
       " 'Amsterdam',\n",
       " 'Amsterdam',\n",
       " 'Stockholm',\n",
       " 'Stockholm',\n",
       " 'Athen',\n",
       " 'Athen',\n",
       " 'Antalya',\n",
       " 'Antalya',\n",
       " 'Barcelona',\n",
       " 'Barcelona',\n",
       " 'Bardufoss',\n",
       " 'Bardufoss',\n",
       " 'Beograd',\n",
       " 'Beograd',\n",
       " 'Berlin',\n",
       " 'Berlin',\n",
       " 'Bergen',\n",
       " 'Bergen',\n",
       " 'Bangkok',\n",
       " 'Bangkok',\n",
       " 'Billund',\n",
       " 'Billund',\n",
       " 'Bodø',\n",
       " 'Bodø',\n",
       " 'Brussel',\n",
       " 'Brussel',\n",
       " 'Budapest',\n",
       " 'Budapest',\n",
       " 'Paris Charles de Gaulle',\n",
       " 'Paris Charles de Gaulle',\n",
       " 'København',\n",
       " 'København',\n",
       " 'Doha',\n",
       " 'Doha',\n",
       " 'Dublin',\n",
       " 'Dublin',\n",
       " 'Dusseldorf',\n",
       " 'Dusseldorf',\n",
       " 'Dubai',\n",
       " 'Dubai',\n",
       " 'Edinburgh',\n",
       " 'Edinburgh',\n",
       " 'Ankara Esenboga',\n",
       " 'Ankara Esenboga',\n",
       " 'Harstad/Narvik',\n",
       " 'Harstad/Narvik',\n",
       " 'New York Newark',\n",
       " 'New York Newark',\n",
       " 'Roma Fiumicino',\n",
       " 'Roma Fiumicino',\n",
       " 'Førde',\n",
       " 'Førde',\n",
       " 'Frankfurt',\n",
       " 'Frankfurt',\n",
       " 'Florø',\n",
       " 'Florø',\n",
       " 'Gdansk',\n",
       " 'Gdansk',\n",
       " 'Geneve',\n",
       " 'Geneve',\n",
       " 'Hamburg',\n",
       " 'Hamburg',\n",
       " 'Haugesund',\n",
       " 'Haugesund',\n",
       " 'Helsinki',\n",
       " 'Helsinki',\n",
       " 'Ørsta/Volda',\n",
       " 'Ørsta/Volda',\n",
       " 'Istanbul',\n",
       " 'Istanbul',\n",
       " 'Reykjavik',\n",
       " 'Reykjavik',\n",
       " 'Kirkenes',\n",
       " 'Kirkenes',\n",
       " 'Krakow',\n",
       " 'Krakow',\n",
       " 'Kristiansand',\n",
       " 'Kristiansand',\n",
       " 'Kristiansund',\n",
       " 'Kristiansund',\n",
       " 'Katowice',\n",
       " 'Katowice',\n",
       " 'London Gatwick',\n",
       " 'London Gatwick',\n",
       " 'London Heathrow',\n",
       " 'London Heathrow',\n",
       " 'Lisboa',\n",
       " 'Lisboa',\n",
       " 'Gran Canaria',\n",
       " 'Gran Canaria',\n",
       " 'Longyearbyen',\n",
       " 'Longyearbyen',\n",
       " 'Madrid',\n",
       " 'Madrid',\n",
       " 'Manchester',\n",
       " 'Manchester',\n",
       " 'Molde',\n",
       " 'Molde',\n",
       " 'Munchen',\n",
       " 'Munchen',\n",
       " 'Milano Malpensa',\n",
       " 'Milano Malpensa',\n",
       " 'Nice',\n",
       " 'Nice',\n",
       " 'Ørland',\n",
       " 'Ørland',\n",
       " 'Oslo',\n",
       " 'Oslo',\n",
       " 'Palanga',\n",
       " 'Palanga',\n",
       " 'Praha',\n",
       " 'Praha',\n",
       " 'Riga',\n",
       " 'Riga',\n",
       " 'Røros',\n",
       " 'Røros',\n",
       " 'Istanbul Sabiha Gøkcen',\n",
       " 'Istanbul Sabiha Gøkcen',\n",
       " 'Sandane',\n",
       " 'Sandane',\n",
       " 'Sandnessjøen',\n",
       " 'Sandnessjøen',\n",
       " 'London Stansted',\n",
       " 'London Stansted',\n",
       " 'Stavanger',\n",
       " 'Stavanger',\n",
       " 'Nordpolen',\n",
       " 'Nordpolen',\n",
       " 'Tenerife',\n",
       " 'Tenerife',\n",
       " 'Tallinn',\n",
       " 'Tallinn',\n",
       " 'Tromsø',\n",
       " 'Tromsø',\n",
       " 'Trondheim',\n",
       " 'Trondheim',\n",
       " 'Vilnius',\n",
       " 'Vilnius',\n",
       " 'Warszawa',\n",
       " 'Warszawa',\n",
       " 'Zurich',\n",
       " 'Zurich']"
      ]
     },
     "execution_count": 161,
     "metadata": {},
     "output_type": "execute_result"
    }
   ],
   "source": [
    "city_list"
   ]
  },
  {
   "cell_type": "code",
   "execution_count": 162,
   "metadata": {},
   "outputs": [
    {
     "name": "stdout",
     "output_type": "stream",
     "text": [
      "['Aalborg', 'Århus', 'Addis Abeba', 'Ålesund', 'Malaga', 'Alicante', 'Alta', 'Amsterdam', 'Stockholm', 'Athen', 'Antalya', 'Barcelona', 'Bardufoss', 'Beograd', 'Berlin', 'Bergen', 'Bangkok', 'Billund', 'Bodø', 'Brussel', 'Budapest', 'Paris Charles de Gaulle', 'København', 'Doha', 'Dublin', 'Dusseldorf', 'Dubai', 'Edinburgh', 'Ankara Esenboga', 'Harstad/Narvik', 'New York Newark', 'Roma Fiumicino', 'Førde', 'Frankfurt', 'Florø', 'Gdansk', 'Geneve', 'Hamburg', 'Haugesund', 'Helsinki', 'Ørsta/Volda', 'Istanbul', 'Reykjavik', 'Kirkenes', 'Krakow', 'Kristiansand', 'Kristiansund', 'Katowice', 'London Gatwick', 'London Heathrow', 'Lisboa', 'Gran Canaria', 'Longyearbyen', 'Madrid', 'Manchester', 'Molde', 'Munchen', 'Milano Malpensa', 'Nice', 'Ørland', 'Oslo', 'Palanga', 'Praha', 'Riga', 'Røros', 'Istanbul Sabiha Gøkcen', 'Sandane', 'Sandnessjøen', 'London Stansted', 'Stavanger', 'Nordpolen', 'Tenerife', 'Tallinn', 'Tromsø', 'Trondheim', 'Vilnius', 'Warszawa', 'Zurich']\n",
      "78\n"
     ]
    }
   ],
   "source": [
    "city_list = list(dict.fromkeys(city_list))\n",
    "print(city_list)\n",
    "print(len(city_list))"
   ]
  },
  {
   "cell_type": "code",
   "execution_count": 170,
   "metadata": {},
   "outputs": [
    {
     "name": "stdout",
     "output_type": "stream",
     "text": [
      "[{'Aalborg': {'description': 'broken clouds', 'temp_max': 3.96, 'temp_min': 3.87}}, {'Århus': {'description': 'scattered clouds', 'temp_max': 4.12, 'temp_min': 3.11}}, {'Addis Abeba': {'description': 'few clouds', 'temp_max': 23.49, 'temp_min': 23.49}}, {'Ålesund': {'description': 'broken clouds', 'temp_max': 3.08, 'temp_min': 2.29}}, {'Malaga': {'description': 'clear sky', 'temp_max': 19.54, 'temp_min': 16.52}}, {'Alicante': {'description': 'clear sky', 'temp_max': 21.09, 'temp_min': 18.36}}, {'Alta': {'description': 'broken clouds', 'temp_max': -7.41, 'temp_min': -7.41}}, {'Amsterdam': {'description': 'broken clouds', 'temp_max': 9.48, 'temp_min': 8.26}}, {'Stockholm': {'description': 'light snow', 'temp_max': 1.7, 'temp_min': -0.14}}, {'Athen': {'description': 'broken clouds', 'temp_max': 16.61, 'temp_min': 13.1}}, {'Antalya': {'description': 'scattered clouds', 'temp_max': 18.33, 'temp_min': 17.83}}, {'Barcelona': {'description': 'clear sky', 'temp_max': 15.7, 'temp_min': 11.73}}, {'Bardufoss': {'description': 'light shower snow', 'temp_max': -7.12, 'temp_min': -7.12}}, {'Beograd': {'description': 'overcast clouds', 'temp_max': 7.46, 'temp_min': 4.69}}, {'Berlin': {'description': 'shower rain', 'temp_max': 7.21, 'temp_min': 4.58}}, {'Bergen': {'description': 'broken clouds', 'temp_max': 3.26, 'temp_min': 1.23}}, {'Bangkok': {'description': 'overcast clouds', 'temp_max': 30.94, 'temp_min': 29.39}}, {'Billund': {'description': 'few clouds', 'temp_max': 4.88, 'temp_min': 4.06}}, {'Bodø': {'description': 'snow', 'temp_max': 1.02, 'temp_min': -1.42}}, {'Brussel': {'description': 'broken clouds', 'temp_max': 8.3, 'temp_min': 6.99}}, {'Budapest': {'description': 'overcast clouds', 'temp_max': 6.57, 'temp_min': 4.48}}, {'København': {'description': 'broken clouds', 'temp_max': 4.52, 'temp_min': 3.47}}, {'Doha': {'description': 'clear sky', 'temp_max': 25.17, 'temp_min': 23.94}}, {'Dublin': {'description': 'clear sky', 'temp_max': 14.81, 'temp_min': 10}}, {'Dusseldorf': {'description': 'broken clouds', 'temp_max': 8.31, 'temp_min': 6.26}}, {'Dubai': {'description': 'few clouds', 'temp_max': 25.96, 'temp_min': 25.14}}, {'Edinburgh': {'description': 'broken clouds', 'temp_max': 11.14, 'temp_min': 9.32}}, {'Førde': {'description': 'fog', 'temp_max': 3, 'temp_min': 0.41}}, {'Frankfurt': {'description': 'clear sky', 'temp_max': 8.54, 'temp_min': 6.3}}, {'Florø': {'description': 'scattered clouds', 'temp_max': 5.54, 'temp_min': 1.04}}, {'Gdansk': {'description': 'broken clouds', 'temp_max': 6.4, 'temp_min': 4.24}}, {'Geneve': {'description': 'scattered clouds', 'temp_max': 8.19, 'temp_min': 7.46}}, {'Hamburg': {'description': 'scattered clouds', 'temp_max': 6.61, 'temp_min': 4.41}}, {'Haugesund': {'description': 'light rain', 'temp_max': 5.23, 'temp_min': 2.31}}, {'Helsinki': {'description': 'scattered clouds', 'temp_max': 1.54, 'temp_min': -3.4}}, {'Istanbul': {'description': 'clear sky', 'temp_max': 15.09, 'temp_min': 12.68}}, {'Reykjavik': {'description': 'overcast clouds', 'temp_max': 4.1, 'temp_min': 3.81}}, {'Kirkenes': {'description': 'clear sky', 'temp_max': -3.88, 'temp_min': -12.47}}, {'Krakow': {'description': 'light rain', 'temp_max': 5.22, 'temp_min': 3.97}}, {'Kristiansand': {'description': 'few clouds', 'temp_max': 4.01, 'temp_min': 3.51}}, {'Kristiansund': {'description': 'scattered clouds', 'temp_max': -0.64, 'temp_min': -1.97}}, {'Katowice': {'description': 'overcast clouds', 'temp_max': 4.67, 'temp_min': 3.76}}, {'Lisboa': {'description': 'few clouds', 'temp_max': 16.68, 'temp_min': 14.2}}, {'Longyearbyen': {'description': 'broken clouds', 'temp_max': -8.09, 'temp_min': -8.09}}, {'Madrid': {'description': 'clear sky', 'temp_max': 14.04, 'temp_min': 10}}, {'Manchester': {'description': 'light rain', 'temp_max': 10.99, 'temp_min': 9.04}}, {'Molde': {'description': 'few clouds', 'temp_max': -2.09, 'temp_min': -2.09}}, {'Nice': {'description': 'overcast clouds', 'temp_max': 7.5, 'temp_min': 2.34}}, {'Ørland': {'description': 'clear sky', 'temp_max': 0, 'temp_min': -0.95}}, {'Oslo': {'description': 'broken clouds', 'temp_max': 0.92, 'temp_min': -2.9}}, {'Palanga': {'description': 'broken clouds', 'temp_max': 5.01, 'temp_min': 5.01}}, {'Praha': {'description': 'scattered clouds', 'temp_max': 7.78, 'temp_min': 4.62}}, {'Riga': {'description': 'overcast clouds', 'temp_max': 3.35, 'temp_min': 2.73}}, {'Røros': {'description': 'broken clouds', 'temp_max': -13.09, 'temp_min': -13.09}}, {'Sandane': {'description': 'broken clouds', 'temp_max': 2.12, 'temp_min': 0.02}}, {'Sandnessjøen': {'description': 'light snow', 'temp_max': 0.23, 'temp_min': -4.71}}, {'Stavanger': {'description': 'scattered clouds', 'temp_max': 5.14, 'temp_min': 2.81}}, {'Nordpolen': {'description': 'light snow', 'temp_max': -8.34, 'temp_min': -8.34}}, {'Tenerife': {'description': 'few clouds', 'temp_max': 28.35, 'temp_min': 28.35}}, {'Tallinn': {'description': 'clear sky', 'temp_max': 0.19, 'temp_min': -0.82}}, {'Tromsø': {'description': 'snow', 'temp_max': -1.99, 'temp_min': -1.99}}, {'Trondheim': {'description': 'overcast clouds', 'temp_max': -0.95, 'temp_min': -5.56}}, {'Vilnius': {'description': 'overcast clouds', 'temp_max': 3.68, 'temp_min': 2.62}}, {'Warszawa': {'description': 'broken clouds', 'temp_max': 5.95, 'temp_min': 4.66}}, {'Zurich': {'description': 'overcast clouds', 'temp_max': 7.48, 'temp_min': 4.36}}]\n"
     ]
    }
   ],
   "source": [
    "weather_list = []\n",
    "\n",
    "for city in city_list:\n",
    "    complete_url = f\"{base_url}appid={api_key}&q={city}&units=metric\"\n",
    "    response = requests.get(complete_url)\n",
    "    if response.status_code == 200:\n",
    "        weather_data = response.json()\n",
    "\n",
    "        weather_dictionary = {}\n",
    "        description = weather_data['weather'][0]['description']\n",
    "        temp_max = weather_data['main']['temp_max']\n",
    "        temp_min = weather_data['main']['temp_min']\n",
    "        data_list = {'description':description, 'temp_max':temp_max, 'temp_min':temp_min}\n",
    "\n",
    "        weather_dictionary[city] = data_list\n",
    "        weather_list.append(weather_dictionary)\n",
    "\n",
    "\n",
    "print(weather_list)"
   ]
  },
  {
   "cell_type": "code",
   "execution_count": 167,
   "metadata": {},
   "outputs": [
    {
     "data": {
      "text/plain": [
       "65"
      ]
     },
     "execution_count": 167,
     "metadata": {},
     "output_type": "execute_result"
    }
   ],
   "source": [
    "len(weather_list)"
   ]
  },
  {
   "cell_type": "code",
   "execution_count": 168,
   "metadata": {},
   "outputs": [],
   "source": [
    "with open(\"Weather_Data.json\", \"w\", encoding='utf-8') as outfile:\n",
    "    json.dump(weather_list, outfile, ensure_ascii=False)"
   ]
  }
 ],
 "metadata": {
  "kernelspec": {
   "display_name": "Python 3",
   "language": "python",
   "name": "python3"
  },
  "language_info": {
   "codemirror_mode": {
    "name": "ipython",
    "version": 3
   },
   "file_extension": ".py",
   "mimetype": "text/x-python",
   "name": "python",
   "nbconvert_exporter": "python",
   "pygments_lexer": "ipython3",
   "version": "3.11.5"
  }
 },
 "nbformat": 4,
 "nbformat_minor": 2
}
