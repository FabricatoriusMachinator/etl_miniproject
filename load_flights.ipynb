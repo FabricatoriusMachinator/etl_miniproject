{
 "cells": [
  {
   "cell_type": "code",
   "execution_count": null,
   "metadata": {},
   "outputs": [],
   "source": [
    "import psycopg2\n",
    "import pandas as pd"
   ]
  },
  {
   "cell_type": "code",
   "execution_count": null,
   "metadata": {},
   "outputs": [],
   "source": [
    "df_original = pd.read_json(r\"gold\\flights.json\")"
   ]
  },
  {
   "cell_type": "code",
   "execution_count": null,
   "metadata": {},
   "outputs": [],
   "source": [
    "df_draft = df_original.copy()\n",
    "\n",
    "df_draft.drop(columns=[\"@uniqueID\"], inplace=True)"
   ]
  },
  {
   "cell_type": "code",
   "execution_count": null,
   "metadata": {},
   "outputs": [],
   "source": [
    "for i in df_draft.columns:\n",
    "    print(i)"
   ]
  },
  {
   "cell_type": "code",
   "execution_count": null,
   "metadata": {},
   "outputs": [],
   "source": [
    "with open(\"db_connection.txt\") as db_info:\n",
    "    conn_string = db_info.readline()\n",
    "\n",
    "conn = psycopg2.connect(conn_string)\n",
    "if conn.closed == 0:\n",
    "    print(\"Connection established\")"
   ]
  },
  {
   "cell_type": "code",
   "execution_count": 15,
   "metadata": {},
   "outputs": [
    {
     "name": "stdout",
     "output_type": "stream",
     "text": [
      "Error inserting row 206: column \"nan\" does not exist\n",
      "LINE 5: ...', 'D', 'OLA', '2023-12-21 00:00:00', '07:45:00', nan, nan);\n",
      "                                                             ^\n",
      "\n"
     ]
    }
   ],
   "source": [
    "cur = conn.cursor()\n",
    "\n",
    "for index, row in df_draft.iterrows(): \n",
    "    formatted_values = [\n",
    "        f\"'{value}'\" if isinstance(value, (str, pd.Timestamp)) else str(value)\n",
    "        for value in row.values\n",
    "    ]\n",
    "\n",
    "    query = f\"\"\"\n",
    "        INSERT INTO flights \n",
    "        ({', '.join(df_draft.columns)}) \n",
    "        VALUES \n",
    "        ({', '.join(formatted_values)});\n",
    "    \"\"\"\n",
    "\n",
    "    try:\n",
    "        cur.execute(query)\n",
    "    except Exception as e:\n",
    "        print(f\"Error inserting row {index}: {e}\")\n",
    "\n",
    "cur.close()"
   ]
  }
 ],
 "metadata": {
  "kernelspec": {
   "display_name": "Python 3",
   "language": "python",
   "name": "python3"
  },
  "language_info": {
   "codemirror_mode": {
    "name": "ipython",
    "version": 3
   },
   "file_extension": ".py",
   "mimetype": "text/x-python",
   "name": "python",
   "nbconvert_exporter": "python",
   "pygments_lexer": "ipython3",
   "version": "3.11.6"
  }
 },
 "nbformat": 4,
 "nbformat_minor": 2
}
